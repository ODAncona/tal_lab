{
 "cells": [
  {
   "cell_type": "markdown",
   "metadata": {},
   "source": [
    "# TAL Labo 1b : Segmentation de textes avec NLTK\n",
    "\n",
    "**Objectifs**\n",
    "\n",
    "Le but de cette deuxième partie du Labo 1 du [Cours TAL](https://cyberlearn.hes-so.ch/course/view.php?id=14966) est d'effectuer quelques opérations élémentaires sur les textes en utilisant la boîte à outils [NLTK](http://www.nltk.org/) en Python.  Vous utiliserez l'environnement mis en place dans la partie 1a : [Python 3.7 ou 3.8](https://www.python.org/) avec _notebooks_ [Jupyter](https://jupyter.org/), soit localement sur votre ordinateur (avec ou sans Conda) ou en ligne sur [Google Colab](https://colab.research.google.com).\n",
    "\n",
    "Vous utiliserez NLTK pour obtenir des textes en ligne ou localement, puis vous les segmenterez en phrases et en mots (appelés aussi _tokens_).  Vous calculerez aussi des statistiques sur ces textes.  Vous travaillerez d'abord sur des textes en anglais (1b et 1c), puis en français (1d)."
   ]
  },
  {
   "cell_type": "markdown",
   "metadata": {},
   "source": [
    "## 1. NLTK: Natural Language Toolkit\n",
    "\n",
    "Pour ajouter NLTK à votre installation locale de Python, suivez les instructions sur le [site web NLTK](http://www.nltk.org/install.html).  Sur Google Colab, NLTK est déjà installé.\n",
    "\n",
    "Pour utiliser NLTK en Python (y compris dans un _notebook_ Jupyter), vous pouvez écrire `import nltk`, puis accéder à toutes les commandes avec le préfixe `nltk.`.  Si vous écrivez `from nltk.book import *`, cela importera des commandes et des variables (p.ex. une collection de textes) qui seront accessibles sans utiliser le préfixe. \n",
    "\n",
    "**Remarques**\n",
    "* Le but de ce laboratoire est de vous initier à NLTK.  Vous pouvez aussi parcourir le [Chapitre 1](http://www.nltk.org/book/ch01.html) du [livre NLTK (*NLP with Python*)](http://www.nltk.org/book/) et essayer les commandes indiquées.  \n",
    "* Veuillez noter que le [livre en ligne](http://www.nltk.org/book/) est mis à jour pour Python 3, mais la [version imprimée](http://shop.oreilly.com/product/9780596516499.do) que l'on peut parfois trouver en PDF est pour Python 2. \n",
    "* NLTK inclut un gestionnaire de téléchargements qui peut être invoqué depuis un interpréteur Python en ligne de commande (écrire `python3` en ligne de commande) avec les deux commandes `import nltk` puis `nltk.download()`.  Cela vous permettra de télécharger de nombreux corpus _additionnels_ (i.e. collections de textes), mais que nous n'utiliserons pas en laboratoire."
   ]
  },
  {
   "cell_type": "code",
   "execution_count": 1,
   "metadata": {},
   "outputs": [
    {
     "name": "stdout",
     "output_type": "stream",
     "text": [
      "*** Introductory Examples for the NLTK Book ***\n",
      "Loading text1, ..., text9 and sent1, ..., sent9\n",
      "Type the name of the text or sentence to view it.\n",
      "Type: 'texts()' or 'sents()' to list the materials.\n",
      "text1: Moby Dick by Herman Melville 1851\n",
      "text2: Sense and Sensibility by Jane Austen 1811\n",
      "text3: The Book of Genesis\n",
      "text4: Inaugural Address Corpus\n",
      "text5: Chat Corpus\n",
      "text6: Monty Python and the Holy Grail\n",
      "text7: Wall Street Journal\n",
      "text8: Personals Corpus\n",
      "text9: The Man Who Was Thursday by G . K . Chesterton 1908\n"
     ]
    }
   ],
   "source": [
    "import nltk\n",
    "import random\n",
    "import os\n",
    "from nltk.book import *"
   ]
  },
  {
   "cell_type": "markdown",
   "metadata": {},
   "source": [
    "Écrivez une phrase en anglais (liste de mots / string) que vous appelerez `sentence1`.  \n",
    "\n",
    "Affichez sa longueur avec `len()`.  \n",
    "\n",
    "Utilisez `nltk.bigrams` pour générer tous les bi-grammes (couples de mots adjacents) à partir de cette liste.  Un exemple est montré dans la [section 3.3 du chapitre 1 du livre NLTK](http://www.nltk.org/book/ch01.html#collocations-and-bigrams).  \n",
    "\n",
    "Enfin, trier les bi-grammes par ordre alphabétique et afficher le résultat."
   ]
  },
  {
   "cell_type": "code",
   "execution_count": 2,
   "metadata": {},
   "outputs": [
    {
     "name": "stdout",
     "output_type": "stream",
     "text": [
      "The length of the sentence is 34 characters.\n"
     ]
    },
    {
     "data": {
      "text/plain": [
       "[('bedroom', '.'),\n",
       " ('cat', 'is'),\n",
       " ('in', 'the'),\n",
       " ('is', 'walking'),\n",
       " ('the', 'cat'),\n",
       " ('the', 'bedroom'),\n",
       " ('walking', 'in')]"
      ]
     },
     "execution_count": 2,
     "metadata": {},
     "output_type": "execute_result"
    }
   ],
   "source": [
    "sentence1 = \"The cat is walking in the bedroom.\"\n",
    "sentence1 = sentence1.lower()\n",
    "\n",
    "print(f\"The length of the sentence is {len(sentence1)} characters.\")\n",
    "\n",
    "words1 = nltk.word_tokenize(sentence1)\n",
    "\n",
    "bigrams = list(nltk.bigrams(words1))\n",
    "\n",
    "sorted(bigrams, key=lambda x: x[0])"
   ]
  },
  {
   "cell_type": "markdown",
   "metadata": {},
   "source": [
    "Défnissez une chaîne appelée `string2` contenant une phrase.  Utilisez le *tokenizer* de NLTK (fonction `nltk.word_tokenize`, expliquée dans la [section 3.1 du livre NLTK](http://www.nltk.org/book/ch03.html#sec-accessing-text)) pour segmenter la chaîne en mots, qui seront rassemblés dans une liste que vous appelerez `sentence2`.  Affichez cette liste."
   ]
  },
  {
   "cell_type": "code",
   "execution_count": 3,
   "metadata": {},
   "outputs": [
    {
     "name": "stdout",
     "output_type": "stream",
     "text": [
      "The length of the sentence is 34 characters.\n"
     ]
    },
    {
     "data": {
      "text/plain": [
       "['the', 'dog', 'is', 'running', 'in', 'the', 'kitchen', '.']"
      ]
     },
     "execution_count": 3,
     "metadata": {},
     "output_type": "execute_result"
    }
   ],
   "source": [
    "string2 = \"The dog is running in the kitchen.\"\n",
    "string2 = string2.lower()\n",
    "\n",
    "print(f\"The length of the sentence is {len(string2)} characters.\")\n",
    "\n",
    "words2 = nltk.word_tokenize(string2)\n",
    "\n",
    "words2"
   ]
  },
  {
   "cell_type": "markdown",
   "metadata": {},
   "source": [
    "## 2. Utiliser NLTK pour télécharger, segmenter et sauvegarder un texte\n",
    "\n",
    "Inspirez-vous du [chapitre 3 (3.1. Processing Raw Text) du livre NLTK](http://www.nltk.org/book/ch03.html) pour télécharger un fichier avec du texte en ligne, par exemple un livre anglais du Projet Gutenberg.  Stocker le contenu dans une chaîne."
   ]
  },
  {
   "cell_type": "code",
   "execution_count": 4,
   "metadata": {},
   "outputs": [
    {
     "data": {
      "text/plain": [
       "str"
      ]
     },
     "execution_count": 4,
     "metadata": {},
     "output_type": "execute_result"
    }
   ],
   "source": [
    "from urllib import request\n",
    "url = \"http://www.gutenberg.org/files/2554/2554-0.txt\"\n",
    "response = request.urlopen(url)\n",
    "raw = response.read().decode('utf8')\n",
    "type(raw)"
   ]
  },
  {
   "cell_type": "markdown",
   "metadata": {},
   "source": [
    "En inspectant la chaîne précédente, déterminez quelle partie du début et de la fin il faut enlever pour garder le texte principal.  Vous pouvez utiliser la notation dite de *slicing* en Python, ou identifier les chaînes où commence et finit le véritable texte.  Quelle est la longueur de ce texte en caractères ?  (Lien utile : [support d'Unicode dans Python](https://docs.python.org/3.7/howto/unicode.html).)"
   ]
  },
  {
   "cell_type": "code",
   "execution_count": 5,
   "metadata": {},
   "outputs": [],
   "source": [
    "# Please write your Python code below and execute it.\n",
    "start = '*** START OF THE PROJECT GUTENBERG EBOOK CRIME AND PUNISHMENT ***'\n",
    "end = '*** END OF THE PROJECT GUTENBERG EBOOK CRIME AND PUNISHMENT ***'\n",
    "startIndex = raw.index(start)+len(start)\n",
    "endIndex = raw.index(end)\n",
    "raw = raw[startIndex:endIndex]\n"
   ]
  },
  {
   "cell_type": "code",
   "execution_count": 6,
   "metadata": {},
   "outputs": [
    {
     "name": "stdout",
     "output_type": "stream",
     "text": [
      "La longueur du texte est de 1157170 characters.\n"
     ]
    }
   ],
   "source": [
    "print(f\"La longueur du texte est de {len(raw)} characters.\")"
   ]
  },
  {
   "cell_type": "markdown",
   "metadata": {},
   "source": [
    "Vous allez maintenant segmenter le texte en phrases et les écrire dans un fichier avec une phrase par ligne.  Vous allez également segmenter chaque phrase en _tokens_ (mots et ponctuations), et créer un autre fichier, avec une phrase par ligne, et un espace entre chaque _token_.  Vous aurez besoin des fonctions suivantes de nltk:\n",
    "* `nltk.sent_tokenize(...)` (documentée [ici](https://www.nltk.org/api/nltk.tokenize.html#nltk.tokenize.word_tokenize)) (notez que le nom \"sentence tokenize\" n'est pas très logique)\n",
    "* `nltk.word_tokenize(...)` (documentée [ici](https://www.nltk.org/api/nltk.tokenize.html#nltk.tokenize.sent_tokenize))"
   ]
  },
  {
   "cell_type": "markdown",
   "metadata": {},
   "source": [
    "**Segmentez le texte en phrases avec NLTK.** Affichez le nombre de phrases obtenues, et un court extrait de 5-6 phrases.  Comment appréciez-vous la qualité de la segmentation ?  *Note :* si certains caractères spéciaux vous semblent péjorer la segmentation, vous pouvez les remplacer dans la chaîne globale avec la fonction `.replace('s1', 's2')`."
   ]
  },
  {
   "cell_type": "code",
   "execution_count": 7,
   "metadata": {
    "scrolled": true
   },
   "outputs": [
    {
     "name": "stdout",
     "output_type": "stream",
     "text": [
      "Le texte contient 11942 phrases.\n",
      "Voici 5 phrases aléatoires du texte:\n",
      "“What?” asked Pyotr Petrovitch, not catching his words; but he received no reply.\n",
      "“That’s all true,” Zossimov hastened to interpose.\n",
      "“Isn’t it so?” Pyotr Petrovitch went on, glancing affably at Zossimov.\n",
      "“You must admit,” he went on, addressing Razumihin with a shade of triumph and superciliousness--he almost added “young man”--“that there is an advance, or, as they say now, progress in the name of science and economic truth...”  “A commonplace.”  “No, not a commonplace!\n",
      "Hitherto, for instance, if I were told, ‘love thy neighbour,’ what came of it?” Pyotr Petrovitch went on, perhaps with excessive haste.\n"
     ]
    }
   ],
   "source": [
    "# Get rid of the carriage returns and new lines\n",
    "raw = raw.replace(\"\\r\", \"\").replace(\"\\n\", \" \")\n",
    "\n",
    "# Split the text into sentences\n",
    "sentences = nltk.sent_tokenize(raw, language='english')\n",
    "\n",
    "index = random.randint(0, len(sentences)-5)\n",
    "print(f\"Le texte contient {len(sentences)} phrases.\")\n",
    "\n",
    "print(\"Voici 5 phrases aléatoires du texte:\")\n",
    "for i in range(5):\n",
    "    print(sentences[index+i])\n"
   ]
  },
  {
   "attachments": {},
   "cell_type": "markdown",
   "metadata": {},
   "source": [
    "Lorsqu'il y a des phrases qui ne se termine pas avec de la ponctuation, le tokenizer va considérer que c'est la même phrase. Nous avons également décidé de remplacer tous les `\\r` par une chaîne vide et les `\\n` par un espace."
   ]
  },
  {
   "cell_type": "markdown",
   "metadata": {},
   "source": [
    "Enregistrez le résultat au format texte, en écrivant chaque phrase sur une ligne.  Vérifiez le résultat en examinant le fichier avec un éditeur de texte."
   ]
  },
  {
   "cell_type": "code",
   "execution_count": null,
   "metadata": {},
   "outputs": [],
   "source": []
  },
  {
   "cell_type": "code",
   "execution_count": 8,
   "metadata": {},
   "outputs": [],
   "source": [
    "filename1 = \"sample_text_1.txt\"\n",
    "if os.path.exists(filename1):\n",
    "    os.remove(filename1)\n",
    "fd = open(filename1, 'a', encoding='utf8')\n",
    "\n",
    "# Store the sentences in a file\n",
    "for s in sentences:\n",
    "    fd.write(s + '\\n')\n",
    "\n",
    "fd.close()"
   ]
  },
  {
   "cell_type": "markdown",
   "metadata": {},
   "source": [
    "**Segmentez maintenant chaque phrase en tokens (mots et ponctuations).**  Stockez le résultat dans une nouvelle variable (liste de listes).  Affichez quelques phrases et commentez la qualité de la tokenisation."
   ]
  },
  {
   "cell_type": "code",
   "execution_count": 9,
   "metadata": {},
   "outputs": [
    {
     "name": "stdout",
     "output_type": "stream",
     "text": [
      "Le texte contient 11942 phrases.\n",
      "Voici 5 phrases aléatoires du texte:\n",
      "Why am I hesitating ?\n",
      "As I came down the stairs yesterday , I said myself that it was base , loathsome , vile , vile ... the very thought of it made me feel sick and filled me with horror .\n",
      "“ No , I couldn ’ t do it , I couldn ’ t do it !\n",
      "Granted , granted that there is no flaw in all that reasoning , that all that I have concluded this last month is clear as day , true as arithmetic .... My God !\n",
      "Anyway I couldn ’ t bring myself to it !\n"
     ]
    }
   ],
   "source": [
    "# Store tokens in a list\n",
    "tokens = [nltk.word_tokenize(s) for s in sentences]\n",
    "\n",
    "index = random.randint(0, len(sentences) - 5)\n",
    "print(f\"Le texte contient {len(sentences)} phrases.\")\n",
    "\n",
    "print(\"Voici 5 phrases aléatoires du texte:\")\n",
    "for i in range(5):\n",
    "    print(\" \".join(tokens[index + i]))\n"
   ]
  },
  {
   "attachments": {},
   "cell_type": "markdown",
   "metadata": {},
   "source": [
    "On remarque que la qualité est bien meilleure car elle est granulaire. On peut donc traiter le texte de manière plus fine."
   ]
  },
  {
   "cell_type": "markdown",
   "metadata": {},
   "source": [
    "Calculez le nombre total de _tokens_ obtenus."
   ]
  },
  {
   "cell_type": "code",
   "execution_count": 10,
   "metadata": {},
   "outputs": [
    {
     "name": "stdout",
     "output_type": "stream",
     "text": [
      "Le texte contient 253647 tokens.\n"
     ]
    }
   ],
   "source": [
    "# Please write your Python code in this cell and execute it.\n",
    "print(f\"Le texte contient {sum(len(sentence)for sentence in tokens)} tokens.\")"
   ]
  },
  {
   "cell_type": "markdown",
   "metadata": {},
   "source": [
    "Enregistrez le résultat au format texte, en écrivant chaque phrase sur une ligne et en insérant un espace entre chaque _token_.  Vérifiez le résultat en examinant le fichier avec un éditeur de texte."
   ]
  },
  {
   "cell_type": "code",
   "execution_count": 11,
   "metadata": {},
   "outputs": [],
   "source": [
    "filename2 = \"sample_text_2.txt\"\n",
    "# Pour un fichier local : chemin relatif par rapport au notebook\n",
    "# Pour Google Colab, p.ex.: /content/gdrive/My Drive/sample_text_2.txt\n",
    "if os.path.exists(filename2): \n",
    "    os.remove(filename2)\n",
    "    \n",
    "# Store the tokens in a file\n",
    "fd = open(filename2, 'a', encoding='utf8')\n",
    "\n",
    "for sentence in tokens:\n",
    "    s = \"\"\n",
    "    for token in sentence:\n",
    "        s += token + \" \"\n",
    "    fd.write(s + '\\n')\n",
    "        \n",
    "fd.close()\n"
   ]
  },
  {
   "cell_type": "markdown",
   "metadata": {},
   "source": [
    "Il est également possible de *tokeniser un texte sans le segmenter préalablement en phrases*.\n",
    "* Effectuez cette opération directement sur la chaîne de caractères contenant tout le texte.  \n",
    "* Affichez et observez un court extrait. \n",
    "* Demandez le nombre total de tokens et comparez-le avec le nombre précédent.  \n",
    "* Il n'est pas demandé ici d'écrire le résultat dans un fichier."
   ]
  },
  {
   "cell_type": "code",
   "execution_count": 13,
   "metadata": {},
   "outputs": [
    {
     "name": "stdout",
     "output_type": "stream",
     "text": [
      "['am', 'showing', 'off', 'to', 'myself']\n",
      "253647\n"
     ]
    }
   ],
   "source": [
    "# Please write your Python code in this cell and execute it.\n",
    "tokenized_text = nltk.word_tokenize(raw)\n",
    "\n",
    "index = random.randint(0, len(tokenized_text) - 5)\n",
    "print(tokenized_text[index:index+5])\n",
    "print(len(tokenized_text))"
   ]
  },
  {
   "attachments": {},
   "cell_type": "markdown",
   "metadata": {},
   "source": [
    "On observe qu'il y a le même nombre de tokens dans les deux solutions."
   ]
  },
  {
   "cell_type": "markdown",
   "metadata": {},
   "source": [
    "## 3. Calculer diverses statistiques avec NLTK\n",
    "Pour calculer des statistiques, il faut d'abord créer un objet de type `nltk.Text`.  Ces objets peuvent être créés avec : \n",
    "1. la chaîne de caractères constituant le texte\n",
    "2. la liste de tous les mots du texte (chaînes)\n",
    "3. la liste de toutes les phrases (liste de listes)\n",
    "\n",
    "**Attention:**\n",
    "\n",
    "* seule l'option (2) permet d'utiliser correctement les méthodes de `nltk.Text`\n",
    "* les méthodes `nltk.word_tokenize()` et `nltk.sent_tokenize()` s'appliquent à des chaînes, pas des `nltk.Text`"
   ]
  },
  {
   "cell_type": "markdown",
   "metadata": {},
   "source": [
    "Créez et stockez dans une variable un objet `nltk.Text` à partir de la liste des tokens de votre texte.  (Vous pouvez appeler ici `nltk.word_tokenize`.)"
   ]
  },
  {
   "cell_type": "code",
   "execution_count": 24,
   "metadata": {},
   "outputs": [],
   "source": [
    "# Please write your Python code in this cell and execute it.\n",
    "tokens = nltk.word_tokenize(raw)\n",
    "text = nltk.Text(tokens)"
   ]
  },
  {
   "cell_type": "markdown",
   "metadata": {},
   "source": [
    "Le [chapitre 1 du livre NLTK](http://www.nltk.org/book/ch01.html) montre des exemples d'opérations que l'on peut effectuer sur un objet `nltk.Text`.  Par exemple, on peut afficher les occurrences d'un mot et leur contexte immédiat avec la méthode `concordance`, ou trouver des mots qui ont des contextes semblables à un mot donné avec `similar`.  Veuillez expérimenter ci-dessous avec ces deux méthodes et afficher un résultat à chaque fois."
   ]
  },
  {
   "cell_type": "code",
   "execution_count": 51,
   "metadata": {},
   "outputs": [
    {
     "name": "stdout",
     "output_type": "stream",
     "text": [
      "Concordance: \n",
      "Displaying 10 of 130 matches:\n",
      " us as wisdom ... that wisdom of the heart which we seek that we may learn from\n",
      "d in these streets and alleys in the heart of Petersburg , types so various wer\n",
      "ss and contempt in the young man ’ s heart , that , in spite of all the fastidi\n",
      "re and more violent . With a sinking heart and a nervous tremor , he went up to\n",
      "into my head ? What filthy things my heart is capable of . Yes , filthy above a\n",
      "had begun to oppress and torture his heart while he was on his way to the old w\n",
      "hy am I not at my duty ? Does not my heart ache to think what a useless worm I \n",
      "drel , but she is a woman of a noble heart , full of sentiments , refined by ed\n",
      "give , I know it ... I felt it in my heart when I was with her just now ! And H\n",
      " Let her strike me , it relieves her heart ... it ’ s better so ... There is th\n"
     ]
    }
   ],
   "source": [
    "# Please write your Python code in this cell and execute it.\n",
    "print(\"Concordance: \")\n",
    "text.concordance(\"heart\", lines=10)\n"
   ]
  },
  {
   "cell_type": "code",
   "execution_count": 53,
   "metadata": {},
   "outputs": [
    {
     "name": "stdout",
     "output_type": "stream",
     "text": [
      "Similar: \n",
      "man word smile moment pig and help room position student\n"
     ]
    }
   ],
   "source": [
    "print(\"Similar: \")\n",
    "text.similar(\"citizen\", num=10)"
   ]
  },
  {
   "cell_type": "code",
   "execution_count": 38,
   "metadata": {},
   "outputs": [
    {
     "data": {
      "image/png": "[encoded data removed]",
      "text/plain": [
       "<Figure size 640x480 with 1 Axes>"
      ]
     },
     "metadata": {},
     "output_type": "display_data"
    }
   ],
   "source": [
    "# Please write your Python code in this cell and execute it.\n"
   ]
  },
  {
   "cell_type": "markdown",
   "metadata": {},
   "source": [
    "En utilisant la méthode `collocation_list`, veuilez afficher les 10 collocations les plus fréquentes dans votre texte."
   ]
  },
  {
   "cell_type": "code",
   "execution_count": 55,
   "metadata": {},
   "outputs": [
    {
     "data": {
      "text/plain": [
       "[('Katerina', 'Ivanovna'),\n",
       " ('Pyotr', 'Petrovitch'),\n",
       " ('Pulcheria', 'Alexandrovna'),\n",
       " ('Avdotya', 'Romanovna'),\n",
       " ('Rodion', 'Romanovitch'),\n",
       " ('Marfa', 'Petrovna'),\n",
       " ('Sofya', 'Semyonovna'),\n",
       " ('old', 'woman'),\n",
       " ('Porfiry', 'Petrovitch'),\n",
       " ('Amalia', 'Ivanovna')]"
      ]
     },
     "execution_count": 55,
     "metadata": {},
     "output_type": "execute_result"
    }
   ],
   "source": [
    "text.collocation_list(num=10)"
   ]
  },
  {
   "cell_type": "markdown",
   "metadata": {},
   "source": [
    "On peut déterminer le vocabulaire d'un texte (c'est-à-dire la liste des _types_) simplement en convertissant la liste des mots (occurrences ou _tokens_) à un `set` en Python.  \n",
    "* Veuillez calculer ainsi le vocabulaire de votre texte.\n",
    "* Combien de mots différents a-t-il ?  (En incluant les ponctuations et tout autre symbole.) \n",
    "* Quels sont les mots qui ont plus de 15 lettres ?  (Ou une autre taille qui vous semble intéressante.)"
   ]
  },
  {
   "cell_type": "code",
   "execution_count": 61,
   "metadata": {},
   "outputs": [
    {
     "name": "stdout",
     "output_type": "stream",
     "text": [
      "Le texte contient 11096 mots uniques.\n",
      "Le texte contient 30 mots avec plus de 15 caractères.\n"
     ]
    }
   ],
   "source": [
    "# Please write your Python code in this cell and execute it.\n",
    "vocabulary = sorted(set(text))\n",
    "print(f\"Le texte contient {len(vocabulary)} mots uniques.\")\n",
    "\n",
    "# words with more than 15 characters\n",
    "count = len(list(filter(lambda w: len(w) > 15, vocabulary)))\n",
    "print(f\"Le texte contient {count} mots avec plus de 15 caractères.\")\n"
   ]
  },
  {
   "cell_type": "markdown",
   "metadata": {},
   "source": [
    "**Distributions de fréquence (Frequency Distributions)**\n",
    "\n",
    "NLTK peut facilement calculer les fréquences de tous les _tokens_ dans un `nltk.Text`.  Le résultat est stocké dans un objet de type `FreqDist` (pour _frequency distribution_) comme montré dans la [section 3.1 du chapitre 1 du livre NLTK](http://www.nltk.org/book/ch01.html#frequency-distributions).  À partir de là, on peut déterminer les mots les plus fréquents.\n",
    "\n",
    "Veuillez construire la distribution de fréquences de votre texte."
   ]
  },
  {
   "cell_type": "code",
   "execution_count": 19,
   "metadata": {},
   "outputs": [],
   "source": [
    "# Please write your Python code in this cell and execute it.\n"
   ]
  },
  {
   "cell_type": "markdown",
   "metadata": {},
   "source": [
    "Affichez les mots qui ont plus de 4 lettres parmi les 70 mots les plus fréquents."
   ]
  },
  {
   "cell_type": "code",
   "execution_count": 20,
   "metadata": {},
   "outputs": [],
   "source": [
    "# Please write your Python code in this cell and execute it.\n"
   ]
  },
  {
   "cell_type": "markdown",
   "metadata": {},
   "source": [
    "## 4. Graphiques\n",
    "La librairie `matplotlib` permet d'afficher les statistiques des textes sous forme graphique.  Pour la rendre accessible dans le _notebook_ (une fois installée dans Python), il faut exécuter les deux lignes suivantes.\n",
    "\n",
    "Nous allons utiliser les fonctions graphiques de NLTK, mais il est possible de générer directement des graphiques à partir de deux listes `x_values` et `y_values` avec la commande `matplotlib.pyplot.plot(x_values, y_values)`."
   ]
  },
  {
   "cell_type": "code",
   "execution_count": 21,
   "metadata": {},
   "outputs": [],
   "source": [
    "import matplotlib.pyplot\n",
    "%matplotlib inline"
   ]
  },
  {
   "cell_type": "markdown",
   "metadata": {},
   "source": [
    "Affichez le graphique cumulatif des nombres d'occurrences des 70 mots les plus fréquents de votre texte, en vous inspirant de la  [section 3.1 du chapitre 1 du livre NLTK](http://www.nltk.org/book/ch01.html#frequency-distributions)."
   ]
  },
  {
   "cell_type": "code",
   "execution_count": 22,
   "metadata": {},
   "outputs": [],
   "source": [
    "# Please write your Python code in this cell and execute it.\n",
    "text.dispersion_plot([\"money\", \"house\", \"family\", \"wife\", \"son\", \"daughter\", \"father\", \"mother\", \"brother\", \"sister\"])"
   ]
  },
  {
   "cell_type": "markdown",
   "metadata": {},
   "source": [
    "Maintenant, construisez une liste avec la longueur de chaque _token_ du texte (la liste aura donc autant de nombres que de tokens).  Créez un nouvel objet `FreqDist` à partir de cette liste, et affichez la distribution (cette fois-ci _non_-cumulative) des nombres d'occurrences.  Quelle est la longueur la plus fréquente ?  Comment évolue la longueur en fonction de la fréquence ?"
   ]
  },
  {
   "cell_type": "code",
   "execution_count": 23,
   "metadata": {},
   "outputs": [],
   "source": [
    "# Please write your Python code in this cell and execute it.\n"
   ]
  },
  {
   "cell_type": "markdown",
   "metadata": {},
   "source": [
    "## Fin de la partie 1b\n",
    "Veuillez nettoyer autant que possible ce _notebook_, exécutez une dernière fois toutes les cellules pour obtenir les résultats demandés, et enregistrez le _notebook_.  Puis ajoutez-le dans une archive _zip_ avec les _notebook_ des parties 1c et 1d, et soumettez l'archive individuellement sur Cyberlearn (_Laboratoire 1_). "
   ]
  }
 ],
 "metadata": {
  "kernelspec": {
   "display_name": "ml",
   "language": "python",
   "name": "python3"
  },
  "language_info": {
   "codemirror_mode": {
    "name": "ipython",
    "version": 3
   },
   "file_extension": ".py",
   "mimetype": "text/x-python",
   "name": "python",
   "nbconvert_exporter": "python",
   "pygments_lexer": "ipython3",
   "version": "3.10.8"
  },
  "vscode": {
   "interpreter": {
    "hash": "abe3ec947f91e4c167de48be5c405fb55c4b01c302c0783c98c9642a1a72a6a3"
   }
  }
 },
 "nbformat": 4,
 "nbformat_minor": 2
}
